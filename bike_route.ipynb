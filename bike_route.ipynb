{
  "nbformat": 4,
  "nbformat_minor": 0,
  "metadata": {
    "colab": {
      "provenance": [],
      "authorship_tag": "ABX9TyN8T3+Y/5rh4JXHdz+814vh",
      "include_colab_link": true
    },
    "kernelspec": {
      "name": "python3",
      "display_name": "Python 3"
    },
    "language_info": {
      "name": "python"
    }
  },
  "cells": [
    {
      "cell_type": "markdown",
      "metadata": {
        "id": "view-in-github",
        "colab_type": "text"
      },
      "source": [
        "<a href=\"https://colab.research.google.com/github/arica-ee/Bike_Share/blob/main/bike_route.ipynb\" target=\"_parent\"><img src=\"https://colab.research.google.com/assets/colab-badge.svg\" alt=\"Open In Colab\"/></a>"
      ]
    },
    {
      "cell_type": "markdown",
      "source": [
        "# 載入套件"
      ],
      "metadata": {
        "id": "CWez35FgylgC"
      }
    },
    {
      "cell_type": "code",
      "source": [
        "!pip install osmnx\n",
        "!pip install --upgrade osmnx"
      ],
      "metadata": {
        "id": "U98DBFLiyj8j",
        "colab": {
          "base_uri": "https://localhost:8080/"
        },
        "outputId": "d8c8d4da-68ac-4e8d-fffc-5e39bdd76013"
      },
      "execution_count": 110,
      "outputs": [
        {
          "output_type": "stream",
          "name": "stdout",
          "text": [
            "Requirement already satisfied: osmnx in /usr/local/lib/python3.11/dist-packages (2.0.1)\n",
            "Requirement already satisfied: geopandas>=1.0 in /usr/local/lib/python3.11/dist-packages (from osmnx) (1.0.1)\n",
            "Requirement already satisfied: networkx>=2.5 in /usr/local/lib/python3.11/dist-packages (from osmnx) (3.4.2)\n",
            "Requirement already satisfied: numpy>=1.22 in /usr/local/lib/python3.11/dist-packages (from osmnx) (1.26.4)\n",
            "Requirement already satisfied: pandas>=1.4 in /usr/local/lib/python3.11/dist-packages (from osmnx) (2.2.2)\n",
            "Requirement already satisfied: requests>=2.27 in /usr/local/lib/python3.11/dist-packages (from osmnx) (2.32.3)\n",
            "Requirement already satisfied: shapely>=2.0 in /usr/local/lib/python3.11/dist-packages (from osmnx) (2.0.7)\n",
            "Requirement already satisfied: pyogrio>=0.7.2 in /usr/local/lib/python3.11/dist-packages (from geopandas>=1.0->osmnx) (0.10.0)\n",
            "Requirement already satisfied: packaging in /usr/local/lib/python3.11/dist-packages (from geopandas>=1.0->osmnx) (24.2)\n",
            "Requirement already satisfied: pyproj>=3.3.0 in /usr/local/lib/python3.11/dist-packages (from geopandas>=1.0->osmnx) (3.7.0)\n",
            "Requirement already satisfied: python-dateutil>=2.8.2 in /usr/local/lib/python3.11/dist-packages (from pandas>=1.4->osmnx) (2.8.2)\n",
            "Requirement already satisfied: pytz>=2020.1 in /usr/local/lib/python3.11/dist-packages (from pandas>=1.4->osmnx) (2025.1)\n",
            "Requirement already satisfied: tzdata>=2022.7 in /usr/local/lib/python3.11/dist-packages (from pandas>=1.4->osmnx) (2025.1)\n",
            "Requirement already satisfied: charset-normalizer<4,>=2 in /usr/local/lib/python3.11/dist-packages (from requests>=2.27->osmnx) (3.4.1)\n",
            "Requirement already satisfied: idna<4,>=2.5 in /usr/local/lib/python3.11/dist-packages (from requests>=2.27->osmnx) (3.10)\n",
            "Requirement already satisfied: urllib3<3,>=1.21.1 in /usr/local/lib/python3.11/dist-packages (from requests>=2.27->osmnx) (2.3.0)\n",
            "Requirement already satisfied: certifi>=2017.4.17 in /usr/local/lib/python3.11/dist-packages (from requests>=2.27->osmnx) (2025.1.31)\n",
            "Requirement already satisfied: six>=1.5 in /usr/local/lib/python3.11/dist-packages (from python-dateutil>=2.8.2->pandas>=1.4->osmnx) (1.17.0)\n",
            "Requirement already satisfied: osmnx in /usr/local/lib/python3.11/dist-packages (2.0.1)\n",
            "Requirement already satisfied: geopandas>=1.0 in /usr/local/lib/python3.11/dist-packages (from osmnx) (1.0.1)\n",
            "Requirement already satisfied: networkx>=2.5 in /usr/local/lib/python3.11/dist-packages (from osmnx) (3.4.2)\n",
            "Requirement already satisfied: numpy>=1.22 in /usr/local/lib/python3.11/dist-packages (from osmnx) (1.26.4)\n",
            "Requirement already satisfied: pandas>=1.4 in /usr/local/lib/python3.11/dist-packages (from osmnx) (2.2.2)\n",
            "Requirement already satisfied: requests>=2.27 in /usr/local/lib/python3.11/dist-packages (from osmnx) (2.32.3)\n",
            "Requirement already satisfied: shapely>=2.0 in /usr/local/lib/python3.11/dist-packages (from osmnx) (2.0.7)\n",
            "Requirement already satisfied: pyogrio>=0.7.2 in /usr/local/lib/python3.11/dist-packages (from geopandas>=1.0->osmnx) (0.10.0)\n",
            "Requirement already satisfied: packaging in /usr/local/lib/python3.11/dist-packages (from geopandas>=1.0->osmnx) (24.2)\n",
            "Requirement already satisfied: pyproj>=3.3.0 in /usr/local/lib/python3.11/dist-packages (from geopandas>=1.0->osmnx) (3.7.0)\n",
            "Requirement already satisfied: python-dateutil>=2.8.2 in /usr/local/lib/python3.11/dist-packages (from pandas>=1.4->osmnx) (2.8.2)\n",
            "Requirement already satisfied: pytz>=2020.1 in /usr/local/lib/python3.11/dist-packages (from pandas>=1.4->osmnx) (2025.1)\n",
            "Requirement already satisfied: tzdata>=2022.7 in /usr/local/lib/python3.11/dist-packages (from pandas>=1.4->osmnx) (2025.1)\n",
            "Requirement already satisfied: charset-normalizer<4,>=2 in /usr/local/lib/python3.11/dist-packages (from requests>=2.27->osmnx) (3.4.1)\n",
            "Requirement already satisfied: idna<4,>=2.5 in /usr/local/lib/python3.11/dist-packages (from requests>=2.27->osmnx) (3.10)\n",
            "Requirement already satisfied: urllib3<3,>=1.21.1 in /usr/local/lib/python3.11/dist-packages (from requests>=2.27->osmnx) (2.3.0)\n",
            "Requirement already satisfied: certifi>=2017.4.17 in /usr/local/lib/python3.11/dist-packages (from requests>=2.27->osmnx) (2025.1.31)\n",
            "Requirement already satisfied: six>=1.5 in /usr/local/lib/python3.11/dist-packages (from python-dateutil>=2.8.2->pandas>=1.4->osmnx) (1.17.0)\n"
          ]
        }
      ]
    },
    {
      "cell_type": "code",
      "execution_count": 111,
      "metadata": {
        "id": "DEVZsRXxwP61"
      },
      "outputs": [],
      "source": [
        "import pandas as pd\n",
        "import numpy as np\n",
        "import datetime as dt\n",
        "import matplotlib.pyplot as plt\n",
        "import networkx as nx\n",
        "import osmnx as ox\n",
        "from IPython.display import IFrame\n",
        "import folium\n",
        "from folium.plugins import MarkerCluster"
      ]
    },
    {
      "cell_type": "code",
      "source": [
        "# 載入資料\n",
        "!gdown 1-f1PqQ1V2eYrCJ8c2FPBmcXTO_ewbqJX -O trip.csv\n",
        "!gdown 1jPAtOX2tnfAYw0U5kYWimHNW_FqOXAge -O station.csv\n",
        "\n",
        "trip = pd.read_csv(\"trip.csv\")\n",
        "station = pd.read_csv(\"station.csv\")"
      ],
      "metadata": {
        "id": "T_CUayNgwTxZ",
        "colab": {
          "base_uri": "https://localhost:8080/"
        },
        "outputId": "9297183c-2158-41ba-a642-900ea4966082"
      },
      "execution_count": 112,
      "outputs": [
        {
          "output_type": "stream",
          "name": "stdout",
          "text": [
            "Downloading...\n",
            "From (original): https://drive.google.com/uc?id=1-f1PqQ1V2eYrCJ8c2FPBmcXTO_ewbqJX\n",
            "From (redirected): https://drive.google.com/uc?id=1-f1PqQ1V2eYrCJ8c2FPBmcXTO_ewbqJX&confirm=t&uuid=0b760a3b-3e0d-412d-8a8f-8bd54d6ad210\n",
            "To: /content/trip.csv\n",
            "100% 121M/121M [00:01<00:00, 110MB/s] \n",
            "Downloading...\n",
            "From: https://drive.google.com/uc?id=1jPAtOX2tnfAYw0U5kYWimHNW_FqOXAge\n",
            "To: /content/station.csv\n",
            "100% 5.65k/5.65k [00:00<00:00, 19.8MB/s]\n"
          ]
        },
        {
          "output_type": "stream",
          "name": "stderr",
          "text": [
            "<ipython-input-112-3b7870d14d8f>:5: DtypeWarning: Columns (10) have mixed types. Specify dtype option on import or set low_memory=False.\n",
            "  trip = pd.read_csv(\"trip.csv\")\n"
          ]
        }
      ]
    },
    {
      "cell_type": "code",
      "source": [
        "# 處理資料格式\n",
        "station.rename(columns = {\"name\" : \"station_name\"}, inplace = True)\n",
        "trip[\"start_date\"] = pd.to_datetime(trip[\"start_date\"])\n",
        "# 統整各站點用戶借車數\n",
        "borrow = trip.start_station_id.value_counts().sort_index()"
      ],
      "metadata": {
        "id": "Hk281t8IweJv"
      },
      "execution_count": 113,
      "outputs": []
    },
    {
      "cell_type": "code",
      "source": [
        "center = [round(station.lat.mean(), 2), round(station.long.mean(), 2)]\n",
        "print(f\"緯度從{station.lat.max()}到{station.lat.min()}，中心點是：{center[0]}\")\n",
        "print(f\"經度從{station.long.max()}到{station.long.min()}，中心點是：{center[1]}\")"
      ],
      "metadata": {
        "id": "Ju8iavGEwj80",
        "colab": {
          "base_uri": "https://localhost:8080/"
        },
        "outputId": "95caa2a4-3dbc-4c22-e2e1-a8a91b40aa5b"
      },
      "execution_count": 114,
      "outputs": [
        {
          "output_type": "stream",
          "name": "stdout",
          "text": [
            "緯度從37.80477到37.329732，中心點是：37.59\n",
            "經度從-121.877349到-122.418954，中心點是：-122.22\n"
          ]
        }
      ]
    },
    {
      "cell_type": "markdown",
      "source": [
        "# **各站點借車熱力圖**"
      ],
      "metadata": {
        "id": "t1umb2fVxa59"
      }
    },
    {
      "cell_type": "code",
      "source": [
        "def hot_map(start_time, end_time, start_weekday, end_weekday):\n",
        "  # 設定底圖\n",
        "  bike_map = folium.Map(location = [center[0], center[1]], zoom_start = 10, control_scale = True) # control_scale:比例尺\n",
        "\n",
        "  # 依「城市」標出站點顏色\n",
        "  for i in range(0,len(station)):\n",
        "    if station.loc[i].city == \"San Francisco\":\n",
        "      color = \"purple\"\n",
        "    elif station.loc[i].city == \"San Jose\":\n",
        "      color = \"green\"\n",
        "    elif station.loc[i].city == \"Mountain View\":\n",
        "      color = \"blue\"\n",
        "    elif station.loc[i].city == \"Palo Alto\":\n",
        "      color = \"black\"\n",
        "    else:\n",
        "      color = \"red\"\n",
        "\n",
        "    # 標出站點\n",
        "    circle = folium.CircleMarker(\n",
        "        location = [station.iloc[i].lat, station.iloc[i].long],\n",
        "        radius = borrow.iloc[i] / 500, # 設定半徑\n",
        "        tooltip = f\"{station.iloc[i].id}  {station.iloc[i].station_name}\", # 設定標籤\n",
        "        fill = True, # 填滿顏色\n",
        "        color = color, # 設定顏色\n",
        "        )\n",
        "    circle.add_to(bike_map)\n",
        "\n",
        "  return bike_map"
      ],
      "metadata": {
        "id": "cHzGaNUZEB6L"
      },
      "execution_count": 115,
      "outputs": []
    },
    {
      "cell_type": "markdown",
      "source": [
        "# **路線圖**"
      ],
      "metadata": {
        "id": "7Qd_zNUYgDWS"
      }
    },
    {
      "cell_type": "code",
      "source": [
        "# 創建新的欄位表示路線\n",
        "def route_map(start_time, end_time, start_weekday, end_weekday, route_count):\n",
        "\n",
        "  SpecDay = trip.loc[trip.start_date.dt.hour.between(start_time, end_time) & trip.start_date.dt.weekday.between(start_weekday, end_weekday)].copy()\n",
        "  SpecDay['開始到結束路線'] = SpecDay['start_station_id'].astype(str) + ' ' + SpecDay['end_station_id'].astype(str)\n",
        "\n",
        "  # 計算每條路線出現的次數，並取出特定數量熱門路線\n",
        "  route_counts = SpecDay['開始到結束路線'].value_counts().nlargest(route_count)\n",
        "\n",
        "  # 拆分路線並合併計數\n",
        "  rank_route = route_counts.rename_axis(\"route\").reset_index(name=\"count\")\n",
        "  rank_route[[\"start_id\", \"end_id\"]] = rank_route[\"route\"].str.split(expand=True)\n",
        "  rank_route[\"count\"] = rank_route[\"count\"].astype(int)\n",
        "\n",
        "  central_point = [center[0], center[1]]\n",
        "  # 建一個以”單車“為交通方式的道路網\n",
        "  G = ox.graph_from_bbox(\n",
        "    bbox=(max(station['lat']), min(station['lat']), max(station['long']), min(station['long'])),\n",
        "    network_type='bike'\n",
        "  )\n",
        "  bike_map = folium.Map(location = central_point, zoom_start = 10, control_scale = True) # control_scale:比例尺\n",
        "\n",
        "  # 標出熱門圈圈\n",
        "  for i in station.loc[station.city == \"San Francisco\"].index:\n",
        "      # 依據city更改顏色\n",
        "    if station.loc[i].city == \"San Francisco\":\n",
        "      color = \"red\"\n",
        "    elif station.loc[i].city == \"San Jose\":\n",
        "      color = \"green\"\n",
        "    elif station.loc[i].city == \"Mountain View\":\n",
        "      color = \"blue\"\n",
        "    elif station.loc[i].city == \"Palo Alto\":\n",
        "      color = \"black\"\n",
        "    else:\n",
        "      color = \"red\"\n",
        "\n",
        "    # 標出站點\n",
        "    marker_cluster = MarkerCluster().add_to(bike_map)\n",
        "\n",
        "    marker = folium.Marker(\n",
        "      location=[station.iloc[i].lat, station.iloc[i].long],\n",
        "      tooltip=f\"{station.iloc[i].id}  {station.iloc[i].station_name}\",  # 滑鼠懸停時顯示\n",
        "      icon=folium.Icon(color=\"red\")  # 設定標記顏色\n",
        "    )\n",
        "    marker.add_to(marker_cluster)  # 加入聚合群組\n",
        "\n",
        "  # 畫出特定數量的熱門路線，並依照熱門程度區分顏色、線條粗細\n",
        "  rank_route[\"weight\"] = np.interp(\n",
        "    rank_route[\"count\"],\n",
        "    [min(rank_route[\"count\"]), (min(rank_route[\"count\"])+ max(rank_route[\"count\"])) / 3 , (min(rank_route[\"count\"])+ max(rank_route[\"count\"]))* 2 / 3, max(rank_route[\"count\"])],\n",
        "    [1, 4, 7, 10]\n",
        "  )\n",
        "\n",
        "  for i in rank_route.index:\n",
        "    if rank_route.loc[i][\"weight\"] >= 10:\n",
        "      weight = 10\n",
        "      color = \"purple\"\n",
        "    elif rank_route.loc[i][\"weight\"] >= 7:\n",
        "      weight = 4\n",
        "      color = \"green\"\n",
        "    elif rank_route.loc[i][\"weight\"] >= 4:\n",
        "      weight = 3\n",
        "      color = \"blue\"\n",
        "    else:\n",
        "      weight = 2\n",
        "      color = \"black\"\n",
        "    start_id = rank_route.loc[i].start_id\n",
        "    end_id = rank_route.loc[i].end_id\n",
        "\n",
        "    # 獲取起點、終點的經緯度\n",
        "    start_location = (\n",
        "        station[station[\"id\"] == int(start_id)].lat.values[0],\n",
        "        station[station[\"id\"] == int(start_id)].long.values[0]\n",
        "    )\n",
        "    end_location = (\n",
        "        station.loc[station['id'] == int(end_id)].lat.values[0],\n",
        "        station.loc[station['id'] == int(end_id)].long.values[0]\n",
        "    )\n",
        "\n",
        "    # 計算地圖上的最近點\n",
        "    start_node = ox.distance.nearest_nodes(G, start_location[1], start_location[0])\n",
        "    end_node = ox.distance.nearest_nodes(G, end_location[1], end_location[0])\n",
        "    shortest_path = nx.shortest_path(G, source=start_node, target=end_node, weight='length')\n",
        "\n",
        "    # 取得最近點並標示在地圖上\n",
        "    path_coords = [(G.nodes[node]['y'], G.nodes[node]['x']) for node in shortest_path]\n",
        "\n",
        "    # 標出路線\n",
        "    folium.PolyLine(locations=path_coords,\n",
        "                    tooltip = f\"{i+1}th popular route\\n{start_id} - {end_id}\",\n",
        "                    color=color,\n",
        "                    weight=weight).add_to(bike_map)\n",
        "\n",
        "  return bike_map\n"
      ],
      "metadata": {
        "id": "9EaXXYBJgDWS"
      },
      "execution_count": 116,
      "outputs": []
    },
    {
      "cell_type": "markdown",
      "source": [
        "# **熱力圖＋路線圖**"
      ],
      "metadata": {
        "id": "-5LOqOtRygQc"
      }
    },
    {
      "cell_type": "code",
      "source": [
        "# 創建新的欄位表示路線\n",
        "def hot_route(start_time, end_time, start_weekday, end_weekday, route_count):\n",
        "\n",
        "  SpecDay = trip.loc[trip.start_date.dt.hour.between(start_time, end_time) & trip.start_date.dt.weekday.between(start_weekday, end_weekday)].copy()\n",
        "  SpecDay['開始到結束路線'] = SpecDay['start_station_id'].astype(str) + ' ' + SpecDay['end_station_id'].astype(str)\n",
        "\n",
        "  # 計算每條路線出現的次數，並取出特定數量熱門路線\n",
        "  route_counts = SpecDay['開始到結束路線'].value_counts().nlargest(route_count)\n",
        "\n",
        "  # 拆分路線並合併計數\n",
        "  rank_route = route_counts.rename_axis(\"route\").reset_index(name=\"count\")\n",
        "  rank_route[[\"start_id\", \"end_id\"]] = rank_route[\"route\"].str.split(expand=True)\n",
        "  rank_route[\"count\"] = rank_route[\"count\"].astype(int)\n",
        "\n",
        "  central_point = [center[0], center[1]]\n",
        "  # 建一個以”單車“為交通方式的道路網\n",
        "  G = ox.graph_from_bbox(\n",
        "    bbox=(max(station['lat']), min(station['lat']), max(station['long']), min(station['long'])),\n",
        "    network_type='bike'\n",
        "  )\n",
        "  bike_map = folium.Map(location = central_point, zoom_start = 10, control_scale = True) # control_scale:比例尺\n",
        "\n",
        "  # 標出熱門圈圈\n",
        "  for i in station.loc[station.city == \"San Francisco\"].index:\n",
        "      # 依據city更改顏色\n",
        "    if station.loc[i].city == \"San Francisco\":\n",
        "      color = \"red\"\n",
        "    elif station.loc[i].city == \"San Jose\":\n",
        "      color = \"green\"\n",
        "    elif station.loc[i].city == \"Mountain View\":\n",
        "      color = \"blue\"\n",
        "    elif station.loc[i].city == \"Palo Alto\":\n",
        "      color = \"black\"\n",
        "    else:\n",
        "      color = \"red\"\n",
        "\n",
        "    # 標出站點\n",
        "    circle = folium.CircleMarker(\n",
        "        location = [station.iloc[i].lat, station.iloc[i].long],\n",
        "        radius = borrow.iloc[i] / 500, # 設定半徑\n",
        "        tooltip = f\"{station.iloc[i].id}  {station.iloc[i].station_name}\", # 設定標籤\n",
        "        fill = True, # 填滿顏色\n",
        "        color = color, # 設定顏色\n",
        "        )\n",
        "    circle.add_to(bike_map)\n",
        "\n",
        "  # 畫出特定數量的熱門路線，並依照熱門程度區分顏色、線條粗細\n",
        "  rank_route[\"weight\"] = np.interp(\n",
        "    rank_route[\"count\"],\n",
        "    [min(rank_route[\"count\"]), (min(rank_route[\"count\"])+ max(rank_route[\"count\"])) / 3 , (min(rank_route[\"count\"])+ max(rank_route[\"count\"]))* 2 / 3, max(rank_route[\"count\"])],\n",
        "    [1, 4, 7, 10]\n",
        "  )\n",
        "\n",
        "  for i in rank_route.index:\n",
        "    if rank_route.loc[i][\"weight\"] >= 10:\n",
        "      weight = 10\n",
        "      color = \"purple\"\n",
        "    elif rank_route.loc[i][\"weight\"] >= 7:\n",
        "      weight = 4\n",
        "      color = \"green\"\n",
        "    elif rank_route.loc[i][\"weight\"] >= 4:\n",
        "      weight = 3\n",
        "      color = \"blue\"\n",
        "    else:\n",
        "      weight = 2\n",
        "      color = \"black\"\n",
        "    start_id = rank_route.loc[i].start_id\n",
        "    end_id = rank_route.loc[i].end_id\n",
        "\n",
        "    # 獲取起點、終點的經緯度\n",
        "    start_location = (\n",
        "        station[station[\"id\"] == int(start_id)].lat.values[0],\n",
        "        station[station[\"id\"] == int(start_id)].long.values[0]\n",
        "    )\n",
        "    end_location = (\n",
        "        station.loc[station['id'] == int(end_id)].lat.values[0],\n",
        "        station.loc[station['id'] == int(end_id)].long.values[0]\n",
        "    )\n",
        "\n",
        "    # 計算地圖上的最近點\n",
        "    start_node = ox.distance.nearest_nodes(G, start_location[1], start_location[0])\n",
        "    end_node = ox.distance.nearest_nodes(G, end_location[1], end_location[0])\n",
        "    shortest_path = nx.shortest_path(G, source=start_node, target=end_node, weight='length')\n",
        "\n",
        "    # 取得最近點並標示在地圖上\n",
        "    path_coords = [(G.nodes[node]['y'], G.nodes[node]['x']) for node in shortest_path]\n",
        "\n",
        "    # 標出路線\n",
        "    folium.PolyLine(locations=path_coords,\n",
        "                    tooltip = f\"{i+1}th popular route\\n{start_id} - {end_id}\",\n",
        "                    color=color,\n",
        "                    weight=weight).add_to(bike_map)\n",
        "\n",
        "  return bike_map\n"
      ],
      "metadata": {
        "id": "WQ2usTdayAOe"
      },
      "execution_count": 117,
      "outputs": []
    },
    {
      "cell_type": "code",
      "source": [
        "while True:\n",
        "  choice = input(\"請選擇要畫(1)熱力圖、(2)路線圖、(3)或是熱力＋路線圖, 或按任意鍵停止畫圖\")\n",
        "  if choice == \"1\" or choice == \"2\" or choice == \"3\":\n",
        "    seq = []\n",
        "    seq.append(input(\"請輸入開始時間（24小時制）\"))\n",
        "    seq.append(input(\"請輸入結束時間（24小時制）\"))\n",
        "    seq.append(input(\"請輸入從星期幾開始（星期一請輸入1，以此類推）\"))\n",
        "    seq.append(input(\"請輸入從星期幾結束（星期一請輸入1，以此類推）\"))\n",
        "\n",
        "    if choice == \"1\":\n",
        "      hot_map(int(seq[0]), int(seq[1]), int(seq[2]), int(seq[3]))\n",
        "    elif choice == \"2\":\n",
        "      route_count = int(input(\"請輸入需要印出幾條熱門路線\"))\n",
        "      route_map(int(seq[0]), int(seq[1]), int(seq[2]), int(seq[3]), route_count)\n",
        "    elif choice == \"3\":\n",
        "      route_count = int(input(\"請輸入需要印出幾條熱門路線\"))\n",
        "      hot_route(int(seq[0]), int(seq[1]), int(seq[2]), int(seq[3]), route_count)\n",
        "  else:\n",
        "    break;\n",
        "\n",
        "  bike_map.save(\"bike_map(1).html\")\n",
        "  IFrame(\"bike_map(1).html\", width=700, height=500)\n",
        "  print(\"地圖已儲存為 bike_map.html\")"
      ],
      "metadata": {
        "id": "YowlJZlhCKnM",
        "colab": {
          "base_uri": "https://localhost:8080/"
        },
        "outputId": "efa3a012-0682-4f0f-8826-0b5e0c8cdd5b"
      },
      "execution_count": null,
      "outputs": [
        {
          "output_type": "stream",
          "name": "stdout",
          "text": [
            "請選擇要畫(1)熱力圖、(2)路線圖、(3)或是熱力＋路線圖, 或按任意鍵停止畫圖3\n",
            "請輸入開始時間（24小時制）12\n",
            "請輸入結束時間（24小時制）18\n",
            "請輸入從星期幾開始（星期一請輸入1，以此類推）1\n",
            "請輸入從星期幾結束（星期一請輸入1，以此類推）5\n",
            "請輸入需要印出幾條熱門路線10\n",
            "地圖已儲存為 bike_map.html\n"
          ]
        }
      ]
    }
  ]
}